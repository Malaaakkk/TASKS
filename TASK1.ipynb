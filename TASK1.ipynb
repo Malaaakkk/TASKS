{
 "cells": [
  {
   "cell_type": "code",
   "execution_count": 8,
   "id": "040d9b87",
   "metadata": {
    "scrolled": true
   },
   "outputs": [
    {
     "name": "stdout",
     "output_type": "stream",
     "text": [
      "calculate gravtitional force\n",
      "G= 6.67\n",
      "Me= 6.0\n",
      "Mm= 7.34\n",
      "R= 3.84\n",
      "result = 1.9920979817708333e+20\n"
     ]
    }
   ],
   "source": [
    "print (\"calculate gravtitional force\")\n",
    "\n",
    "g= float (input(\"G= \"))\n",
    "Me= float (input(\"Me= \"))\n",
    "Mm= float (input(\"Mm= \"))\n",
    "R= float (input(\"R= \"))\n",
    "\n",
    "g= g*(10**-11)\n",
    "Me= Me*(10**24)\n",
    "Mm= Mm*(10**22)\n",
    "R= R*(10**8)\n",
    "\n",
    "Fg= (g*Mm*Me)/(R**2)\n",
    "\n",
    "print (\"result = {}\".format(Fg))"
   ]
  },
  {
   "cell_type": "code",
   "execution_count": null,
   "id": "77d60ab1",
   "metadata": {},
   "outputs": [],
   "source": []
  },
  {
   "cell_type": "code",
   "execution_count": null,
   "id": "165dc104",
   "metadata": {},
   "outputs": [],
   "source": []
  },
  {
   "cell_type": "code",
   "execution_count": null,
   "id": "77c9a479",
   "metadata": {},
   "outputs": [],
   "source": [
    "\n"
   ]
  }
 ],
 "metadata": {
  "kernelspec": {
   "display_name": "Python 3 (ipykernel)",
   "language": "python",
   "name": "python3"
  },
  "language_info": {
   "codemirror_mode": {
    "name": "ipython",
    "version": 3
   },
   "file_extension": ".py",
   "mimetype": "text/x-python",
   "name": "python",
   "nbconvert_exporter": "python",
   "pygments_lexer": "ipython3",
   "version": "3.9.13"
  }
 },
 "nbformat": 4,
 "nbformat_minor": 5
}
